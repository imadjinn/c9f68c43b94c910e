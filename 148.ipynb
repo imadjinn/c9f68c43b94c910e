{
 "cells": [
  {
   "cell_type": "code",
   "execution_count": 5,
   "metadata": {},
   "outputs": [
    {
     "name": "stdout",
     "output_type": "stream",
     "text": [
      "2361\n",
      "Wall time: 8 ms\n"
     ]
    }
   ],
   "source": [
    "%%time\n",
    "def create_pt(n):\n",
    "    pt = [[1]]\n",
    "    div7sum = 1\n",
    "    for i in range(1, n):\n",
    "        pt.append( [0 for i in range(len(pt[i-1])+1)] )\n",
    "        for j, val in enumerate(pt[i-1]):\n",
    "            pt[i][j] += val\n",
    "            pt[i][j+1] += val\n",
    "        #print(pt)\n",
    "        div7sum += sum([el%7!=0 for el in pt[i]])\n",
    "    return div7sum\n",
    "        \n",
    "print(create_pt(n=1_00))"
   ]
  },
  {
   "cell_type": "code",
   "execution_count": null,
   "metadata": {},
   "outputs": [],
   "source": []
  }
 ],
 "metadata": {
  "kernelspec": {
   "display_name": "Python 3",
   "language": "python",
   "name": "python3"
  },
  "language_info": {
   "codemirror_mode": {
    "name": "ipython",
    "version": 3
   },
   "file_extension": ".py",
   "mimetype": "text/x-python",
   "name": "python",
   "nbconvert_exporter": "python",
   "pygments_lexer": "ipython3",
   "version": "3.7.0"
  }
 },
 "nbformat": 4,
 "nbformat_minor": 2
}
