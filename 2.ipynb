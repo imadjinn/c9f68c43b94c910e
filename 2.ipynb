{
 "cells": [
  {
   "cell_type": "code",
   "execution_count": 2,
   "metadata": {},
   "outputs": [
    {
     "name": "stdout",
     "output_type": "stream",
     "text": [
      "4613732\n"
     ]
    }
   ],
   "source": [
    "fd = {1:1, 2:2}\n",
    "\n",
    "def fib(n):\n",
    "    if n in fd:\n",
    "        return fd[n]\n",
    "    else:\n",
    "        fd[n] = fib(n-1) + fib(n-2)\n",
    "        return fd[n]\n",
    "\n",
    "def main(last_val, N=4_000_000):\n",
    "    if last_val > N:\n",
    "        fd.popitem()\n",
    "        return sum([el for el in fd.values() if el%2==0])\n",
    "    else:\n",
    "        n_plus_1 = len(fd)+1\n",
    "        last_val = fib(n_plus_1)\n",
    "        fd[n_plus_1] = last_val\n",
    "        return main(last_val=last_val)\n",
    "    \n",
    "print(main(last_val=2))"
   ]
  }
 ],
 "metadata": {
  "kernelspec": {
   "display_name": "Python 3",
   "language": "python",
   "name": "python3"
  },
  "language_info": {
   "codemirror_mode": {
    "name": "ipython",
    "version": 3
   },
   "file_extension": ".py",
   "mimetype": "text/x-python",
   "name": "python",
   "nbconvert_exporter": "python",
   "pygments_lexer": "ipython3",
   "version": "3.7.0"
  }
 },
 "nbformat": 4,
 "nbformat_minor": 2
}
