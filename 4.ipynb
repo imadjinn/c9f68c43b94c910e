{
 "cells": [
  {
   "cell_type": "code",
   "execution_count": 1,
   "metadata": {},
   "outputs": [
    {
     "data": {
      "text/plain": [
       "(6, 906609)"
      ]
     },
     "execution_count": 1,
     "metadata": {},
     "output_type": "execute_result"
    }
   ],
   "source": [
    "def ispalindrome(number):\n",
    "    number_str = str(number)\n",
    "    return number_str[::-1] == number_str\n",
    "\n",
    "def largest_palindrome():\n",
    "    palindromes = []\n",
    "    for a in range(100, 1000):\n",
    "        for b in range(100, 1000):\n",
    "            if ispalindrome(a*b):\n",
    "                palindromes.append( (len(str(a*b)),a*b) )\n",
    "    return sorted(palindromes)[-1]\n",
    "\n",
    "largest_palindrome()"
   ]
  },
  {
   "cell_type": "code",
   "execution_count": null,
   "metadata": {},
   "outputs": [],
   "source": []
  }
 ],
 "metadata": {
  "kernelspec": {
   "display_name": "Python 3",
   "language": "python",
   "name": "python3"
  },
  "language_info": {
   "codemirror_mode": {
    "name": "ipython",
    "version": 3
   },
   "file_extension": ".py",
   "mimetype": "text/x-python",
   "name": "python",
   "nbconvert_exporter": "python",
   "pygments_lexer": "ipython3",
   "version": "3.6.6"
  }
 },
 "nbformat": 4,
 "nbformat_minor": 2
}
