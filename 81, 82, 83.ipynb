{
 "cells": [
  {
   "cell_type": "code",
   "execution_count": 1,
   "metadata": {},
   "outputs": [],
   "source": [
    "import copy\n",
    "import numpy as np"
   ]
  },
  {
   "cell_type": "code",
   "execution_count": 2,
   "metadata": {},
   "outputs": [],
   "source": [
    "M = [[131, 673, 234, 103, 18], \n",
    "     [201, 96, 342, 965, 150], \n",
    "     [630, 803, 746, 422, 111], \n",
    "     [537, 699, 497, 121, 956],\n",
    "     [805, 732, 524, 37, 331]\n",
    "    ]\n",
    "\n",
    "with open('p081_matrix.txt', 'r') as f:\n",
    "    s = f.read()\n",
    "    \n",
    "path81 = [[int(el) for el in row.split(',')] \n",
    "          for row in s.split('\\n') if row != '']\n",
    "\n",
    "with open('p082_matrix.txt', 'r') as f:\n",
    "    s = f.read()\n",
    "    \n",
    "path82 = [[int(el) for el in row.split(',')] \n",
    "          for row in s.split('\\n') if row != '']"
   ]
  },
  {
   "cell_type": "code",
   "execution_count": 3,
   "metadata": {},
   "outputs": [],
   "source": [
    "def min_path_sum(path):\n",
    "    path_min = copy.deepcopy(path)\n",
    "    n = len(path_min)\n",
    "    n_minus = n - 1\n",
    "    for i in range(n)[::-1]:\n",
    "        for j in range(n)[::-1]:\n",
    "            \n",
    "            #center elements\n",
    "            if i < n_minus and j < n_minus:\n",
    "                path_min[i][j] = path_min[i][j] + min(path_min[1+i][j], path_min[i][1+j])\n",
    "\n",
    "            #right column\n",
    "            elif i < n_minus and j == n_minus:\n",
    "                path_min[i][j] = path_min[i][j] + path_min[1+i][j]\n",
    "                \n",
    "            #bottom line\n",
    "            elif i == n_minus and j < n_minus:\n",
    "                path_min[i][j] = path_min[i][j] + path_min[i][1+j]\n",
    "\n",
    "    return path_min[0][0]"
   ]
  },
  {
   "cell_type": "code",
   "execution_count": 7,
   "metadata": {},
   "outputs": [],
   "source": [
    "def min_path_sum3(M):\n",
    "    Mc = copy.deepcopy(M)\n",
    "    mrow, ncol = M.shape\n",
    "    for col in range(ncol-1)[::-1]:\n",
    "        \n",
    "        down = Mc[:,col].copy()\n",
    "        for row in range(mrow):\n",
    "            down[row,0] += min(Mc[row,col+1], np.inf if row==0 else down[row-1,0])\n",
    "            \n",
    "        up = Mc[:,col].copy()\n",
    "        for row in range(mrow)[::-1]:\n",
    "            up[row,0] += min(Mc[row,col+1], np.inf if row==mrow-1 else up[row+1,0])\n",
    "        \n",
    "        union_action_values = np.concatenate((up, down), axis=1)\n",
    "        min_action_values = np.min(union_action_values, axis=1)\n",
    "        Mc[:, col] = min_action_values\n",
    "\n",
    "    return np.min(Mc[:,0])"
   ]
  },
  {
   "cell_type": "code",
   "execution_count": 8,
   "metadata": {},
   "outputs": [
    {
     "data": {
      "text/plain": [
       "427337"
      ]
     },
     "execution_count": 8,
     "metadata": {},
     "output_type": "execute_result"
    }
   ],
   "source": [
    "min_path_sum(path81)"
   ]
  },
  {
   "cell_type": "code",
   "execution_count": 10,
   "metadata": {},
   "outputs": [
    {
     "data": {
      "text/plain": [
       "260324"
      ]
     },
     "execution_count": 10,
     "metadata": {},
     "output_type": "execute_result"
    }
   ],
   "source": [
    "min_path_sum3(np.matrix(path82))"
   ]
  },
  {
   "cell_type": "code",
   "execution_count": null,
   "metadata": {},
   "outputs": [],
   "source": []
  }
 ],
 "metadata": {
  "kernelspec": {
   "display_name": "Python 3",
   "language": "python",
   "name": "python3"
  },
  "language_info": {
   "codemirror_mode": {
    "name": "ipython",
    "version": 3
   },
   "file_extension": ".py",
   "mimetype": "text/x-python",
   "name": "python",
   "nbconvert_exporter": "python",
   "pygments_lexer": "ipython3",
   "version": "3.7.0"
  }
 },
 "nbformat": 4,
 "nbformat_minor": 2
}
