{
 "cells": [
  {
   "cell_type": "code",
   "execution_count": 1,
   "metadata": {},
   "outputs": [
    {
     "data": {
      "text/plain": [
       "array([ 2,  3,  5,  7, 11, 13, 17, 19, 23, 29])"
      ]
     },
     "execution_count": 1,
     "metadata": {},
     "output_type": "execute_result"
    }
   ],
   "source": [
    "import numpy as np\n",
    "\n",
    "def eratosphen_sieve(n):\n",
    "    lst = np.arange(3, n, 2)\n",
    "    p = 2\n",
    "    j = 0\n",
    "    while 1:\n",
    "        p = lst[j]\n",
    "        if p**2 > n:\n",
    "            return np.append([2], lst)\n",
    "        mask = ~(lst%p==0)\n",
    "        mask[j] = True\n",
    "        lst = lst[mask]\n",
    "        j += 1\n",
    "        \n",
    "    return None\n",
    "\n",
    "eratosphen_sieve(30)"
   ]
  },
  {
   "cell_type": "code",
   "execution_count": 2,
   "metadata": {},
   "outputs": [
    {
     "name": "stdout",
     "output_type": "stream",
     "text": [
      "6857\n",
      "CPU times: user 176 ms, sys: 0 ns, total: 176 ms\n",
      "Wall time: 172 ms\n"
     ]
    }
   ],
   "source": [
    "%%time\n",
    "def largest_factor(number):\n",
    "    prime_list = eratosphen_sieve( int( np.ceil(number**0.5) ))\n",
    "\n",
    "    for prime in prime_list[::-1]:\n",
    "        if number % prime == 0:\n",
    "            return prime\n",
    "    return None\n",
    "\n",
    "number = 600851475143\n",
    "print(largest_factor(number=number))"
   ]
  },
  {
   "cell_type": "code",
   "execution_count": null,
   "metadata": {},
   "outputs": [],
   "source": []
  }
 ],
 "metadata": {
  "kernelspec": {
   "display_name": "Python 3",
   "language": "python",
   "name": "python3"
  },
  "language_info": {
   "codemirror_mode": {
    "name": "ipython",
    "version": 3
   },
   "file_extension": ".py",
   "mimetype": "text/x-python",
   "name": "python",
   "nbconvert_exporter": "python",
   "pygments_lexer": "ipython3",
   "version": "3.6.6"
  }
 },
 "nbformat": 4,
 "nbformat_minor": 2
}
